{
 "cells": [
  {
   "cell_type": "code",
   "execution_count": 1,
   "id": "825f5e90",
   "metadata": {
    "_cell_guid": "b1076dfc-b9ad-4769-8c92-a6c4dae69d19",
    "_uuid": "8f2839f25d086af736a60e9eeb907d3b93b6e0e5",
    "execution": {
     "iopub.execute_input": "2022-11-07T07:17:41.717729Z",
     "iopub.status.busy": "2022-11-07T07:17:41.716957Z",
     "iopub.status.idle": "2022-11-07T07:17:41.728290Z",
     "shell.execute_reply": "2022-11-07T07:17:41.727341Z"
    },
    "papermill": {
     "duration": 0.023999,
     "end_time": "2022-11-07T07:17:41.730982",
     "exception": false,
     "start_time": "2022-11-07T07:17:41.706983",
     "status": "completed"
    },
    "tags": []
   },
   "outputs": [],
   "source": [
    "# This Python 3 environment comes with many helpful analytics libraries installed\n",
    "# It is defined by the kaggle/python Docker image: https://github.com/kaggle/docker-python\n",
    "# For example, here's several helpful packages to load\n",
    "\n",
    "import numpy as np # linear algebra\n",
    "import pandas as pd # data processing, CSV file I/O (e.g. pd.read_csv)\n",
    "\n",
    "# Input data files are available in the read-only \"../input/\" directory\n",
    "# For example, running this (by clicking run or pressing Shift+Enter) will list all files under the input directory\n",
    "\n",
    "import os\n",
    "for dirname, _, filenames in os.walk('/kaggle/input'):\n",
    "    for filename in filenames:\n",
    "        print(os.path.join(dirname, filename))\n",
    "\n",
    "# You can write up to 20GB to the current directory (/kaggle/working/) that gets preserved as output when you create a version using \"Save & Run All\" \n",
    "# You can also write temporary files to /kaggle/temp/, but they won't be saved outside of the current session"
   ]
  },
  {
   "cell_type": "code",
   "execution_count": 2,
   "id": "be58e62c",
   "metadata": {
    "execution": {
     "iopub.execute_input": "2022-11-07T07:17:41.746636Z",
     "iopub.status.busy": "2022-11-07T07:17:41.745925Z",
     "iopub.status.idle": "2022-11-07T07:17:41.750084Z",
     "shell.execute_reply": "2022-11-07T07:17:41.749165Z"
    },
    "papermill": {
     "duration": 0.01448,
     "end_time": "2022-11-07T07:17:41.752338",
     "exception": false,
     "start_time": "2022-11-07T07:17:41.737858",
     "status": "completed"
    },
    "tags": []
   },
   "outputs": [],
   "source": [
    "# 1.Input Layer--CN/DenseLayer/Convoluted Layer\n",
    "#     i. Relu Layer\n",
    "#     ii.Pooling Layer  \n",
    "#       iii.Upsampling \n",
    "     \n",
    "#         i.batchNormalization\n",
    "#         ii.Droupout Layer\n",
    "#         \n",
    "    \n",
    "# 2.HiddenLayer --NN\n",
    "# 3.Output Layer--FCNN"
   ]
  },
  {
   "cell_type": "code",
   "execution_count": 3,
   "id": "b3156ba4",
   "metadata": {
    "execution": {
     "iopub.execute_input": "2022-11-07T07:17:41.768224Z",
     "iopub.status.busy": "2022-11-07T07:17:41.767452Z",
     "iopub.status.idle": "2022-11-07T07:17:41.771812Z",
     "shell.execute_reply": "2022-11-07T07:17:41.770986Z"
    },
    "papermill": {
     "duration": 0.014628,
     "end_time": "2022-11-07T07:17:41.774044",
     "exception": false,
     "start_time": "2022-11-07T07:17:41.759416",
     "status": "completed"
    },
    "tags": []
   },
   "outputs": [],
   "source": [
    "# 1.Tensorflow\n",
    "# 2.Pytorch\n",
    "# 3.MaxNet\n",
    "\n",
    "# 1.Numpy\n",
    "# 2.Pandas\n",
    "# 3.Pillow\n",
    "# 4.OpenCV\n",
    "# 5. Scikit Learn\n",
    "\n",
    "# i.plotly\n",
    "# ii.matlplotlib\n",
    "# iii.Seaborn\n",
    "# iv.D3.js\n",
    "# v.NLTK\n"
   ]
  },
  {
   "cell_type": "code",
   "execution_count": 4,
   "id": "3008a16d",
   "metadata": {
    "execution": {
     "iopub.execute_input": "2022-11-07T07:17:41.789726Z",
     "iopub.status.busy": "2022-11-07T07:17:41.788953Z",
     "iopub.status.idle": "2022-11-07T07:17:47.586770Z",
     "shell.execute_reply": "2022-11-07T07:17:47.585730Z"
    },
    "papermill": {
     "duration": 5.809015,
     "end_time": "2022-11-07T07:17:47.589982",
     "exception": false,
     "start_time": "2022-11-07T07:17:41.780967",
     "status": "completed"
    },
    "tags": []
   },
   "outputs": [],
   "source": [
    "# This section for model\n",
    "import tensorflow as tf\n",
    "#This section for algebric analysis\n",
    "import numpy as np\n",
    "# This section for visualisation\n",
    "import matplotlib.pyplot as plt\n",
    "import warnings\n",
    "warnings.filterwarnings('ignore')\n",
    "%matplotlib inline\n"
   ]
  },
  {
   "cell_type": "code",
   "execution_count": 5,
   "id": "72106b78",
   "metadata": {
    "execution": {
     "iopub.execute_input": "2022-11-07T07:17:47.605835Z",
     "iopub.status.busy": "2022-11-07T07:17:47.605173Z",
     "iopub.status.idle": "2022-11-07T07:17:47.614242Z",
     "shell.execute_reply": "2022-11-07T07:17:47.612953Z"
    },
    "papermill": {
     "duration": 0.01936,
     "end_time": "2022-11-07T07:17:47.616531",
     "exception": false,
     "start_time": "2022-11-07T07:17:47.597171",
     "status": "completed"
    },
    "tags": []
   },
   "outputs": [],
   "source": [
    "class NeuralNetwork:\n",
    "    def __init__(self,layers):\n",
    "        self.layers=layers\n",
    "        self.L=len(layers)\n",
    "        \n",
    "        self.number_feature=layers[0]\n",
    "        self.number_class= layers[-1]\n",
    "        \n",
    "        self.w ={}\n",
    "        self.b ={}\n",
    "        \n",
    "        self.dw = {}\n",
    "        self.db = {}\n",
    "        \n",
    "        self.setup()\n",
    "    \n",
    "    def setup(self):\n",
    "        for i in range(1,self.L):\n",
    "            self.w[i] = tf.Variable(tf.random.normal(shape= (self.layers[i],self.layers[i-1])))\n",
    "            self.b[i] = tf.Variable(tf.random.normal(shape= (self.layers[i],1)))\n",
    "        "
   ]
  },
  {
   "cell_type": "code",
   "execution_count": 6,
   "id": "14e16f46",
   "metadata": {
    "execution": {
     "iopub.execute_input": "2022-11-07T07:17:47.631571Z",
     "iopub.status.busy": "2022-11-07T07:17:47.630900Z",
     "iopub.status.idle": "2022-11-07T07:17:47.634673Z",
     "shell.execute_reply": "2022-11-07T07:17:47.633900Z"
    },
    "papermill": {
     "duration": 0.013817,
     "end_time": "2022-11-07T07:17:47.636889",
     "exception": false,
     "start_time": "2022-11-07T07:17:47.623072",
     "status": "completed"
    },
    "tags": []
   },
   "outputs": [],
   "source": [
    "# 1.dtype=\"float32\"\n",
    "# 2.dtype=np.float32\n",
    "# 3.dtype=tf.float32\n",
    "# 4.dtype=torch.float32"
   ]
  },
  {
   "cell_type": "code",
   "execution_count": 7,
   "id": "5793bb7c",
   "metadata": {
    "execution": {
     "iopub.execute_input": "2022-11-07T07:17:47.652293Z",
     "iopub.status.busy": "2022-11-07T07:17:47.651601Z",
     "iopub.status.idle": "2022-11-07T07:17:47.658180Z",
     "shell.execute_reply": "2022-11-07T07:17:47.657083Z"
    },
    "papermill": {
     "duration": 0.017443,
     "end_time": "2022-11-07T07:17:47.660986",
     "exception": false,
     "start_time": "2022-11-07T07:17:47.643543",
     "status": "completed"
    },
    "tags": []
   },
   "outputs": [],
   "source": [
    "# Forward propagation\n",
    "class NeuralNetwork(NeuralNetwork):\n",
    "    def forwardPass (self,A):\n",
    "        A = tf.convert_to_tensor(A, dtype=tf.float32)\n",
    "        for i in range(1,self.L):\n",
    "            Z = tf.matmul(A, tf.transpose(self.w[i])) + tf.transpose(self.b[i])\n",
    "            if i!= self.L-1:\n",
    "                A = tf.nn.relu(Z)\n",
    "            else:\n",
    "                A=Z\n",
    "        return A       "
   ]
  },
  {
   "cell_type": "code",
   "execution_count": 8,
   "id": "d7156511",
   "metadata": {
    "execution": {
     "iopub.execute_input": "2022-11-07T07:17:47.677607Z",
     "iopub.status.busy": "2022-11-07T07:17:47.677184Z",
     "iopub.status.idle": "2022-11-07T07:17:47.684137Z",
     "shell.execute_reply": "2022-11-07T07:17:47.683267Z"
    },
    "papermill": {
     "duration": 0.018512,
     "end_time": "2022-11-07T07:17:47.686362",
     "exception": false,
     "start_time": "2022-11-07T07:17:47.667850",
     "status": "completed"
    },
    "tags": []
   },
   "outputs": [],
   "source": [
    "# We will use this section for computing loss and Upgrading the previous parameters\n",
    "class NeuralNetwork(NeuralNetwork):\n",
    "    def compute_loss(self, A,Y):\n",
    "        return tf.reduce_mean(tf.nn.softmax_cross_entropy_with_logits(Y,A))\n",
    "    \n",
    "    def upgrade_parameters(self, lr):\n",
    "        for j in range(1,self.L):\n",
    "            self.w[j].assign_sub(lr*self.dw[j])\n",
    "            self.b[j].assign_sub(lr*self.db[j])"
   ]
  },
  {
   "cell_type": "code",
   "execution_count": 9,
   "id": "67e5c4bd",
   "metadata": {
    "execution": {
     "iopub.execute_input": "2022-11-07T07:17:47.701207Z",
     "iopub.status.busy": "2022-11-07T07:17:47.700429Z",
     "iopub.status.idle": "2022-11-07T07:17:47.708765Z",
     "shell.execute_reply": "2022-11-07T07:17:47.707893Z"
    },
    "papermill": {
     "duration": 0.018504,
     "end_time": "2022-11-07T07:17:47.711334",
     "exception": false,
     "start_time": "2022-11-07T07:17:47.692830",
     "status": "completed"
    },
    "tags": []
   },
   "outputs": [],
   "source": [
    "class NeuralNetwork(NeuralNetwork):\n",
    "    def predict(self, x):\n",
    "        A = self.forwardPass(x)\n",
    "        return tf.argmax(tf.nn.softmax(A), axis = 1)\n",
    "    def info(self):\n",
    "        num_params = 0\n",
    "        for i in range(1,self.L):\n",
    "            num_params += self.w[i].shape[0]*self.w[i].shape[1]\n",
    "            num_params += self.b[i].shape[0]\n",
    "            \n",
    "        print(\"Number of Feature: {}\".format(self.number_feature))\n",
    "        print(\"Total Number of Class is: {}\". format(self.number_class))\n",
    "        \n",
    "        print(\"Hidden Layer information is:\")\n",
    "        for j in range(1,self.L-1):\n",
    "            print(\"Layer: {}, Units {}\".format(j,self.layers[j]))\n",
    "            \n",
    "        print (\"Total Number of parameters : {}\". format(num_params))    "
   ]
  },
  {
   "cell_type": "code",
   "execution_count": 10,
   "id": "86ceb5dc",
   "metadata": {
    "execution": {
     "iopub.execute_input": "2022-11-07T07:17:47.726397Z",
     "iopub.status.busy": "2022-11-07T07:17:47.725851Z",
     "iopub.status.idle": "2022-11-07T07:17:47.733873Z",
     "shell.execute_reply": "2022-11-07T07:17:47.732683Z"
    },
    "papermill": {
     "duration": 0.018217,
     "end_time": "2022-11-07T07:17:47.736137",
     "exception": false,
     "start_time": "2022-11-07T07:17:47.717920",
     "status": "completed"
    },
    "tags": []
   },
   "outputs": [],
   "source": [
    "class NeuralNetwork(NeuralNetwork):\n",
    "    def training_on_batch(self,x,y,lr):\n",
    "        x= tf.convert_to_tensor(x, dtype=tf.float32)\n",
    "        y= tf.convert_to_tensor(y, dtype=tf.float32)\n",
    "        \n",
    "        \n",
    "        with tf.GradientTape(persistent = True) as tape:\n",
    "            A = self.forwardPass(x)\n",
    "            loss = self.compute_loss(A, y)\n",
    "            \n",
    "        for key in self.w.keys():\n",
    "            self.dw[key] = tape.gradient(loss, self.w[key])\n",
    "            self.db[key] = tape.gradient(loss, self.b[key])\n",
    "            \n",
    "            \n",
    "        del tape\n",
    "        \n",
    "        self.upgrade_parameters(lr)\n",
    "        return loss.numpy()"
   ]
  },
  {
   "cell_type": "code",
   "execution_count": 11,
   "id": "32e90097",
   "metadata": {
    "execution": {
     "iopub.execute_input": "2022-11-07T07:17:47.751177Z",
     "iopub.status.busy": "2022-11-07T07:17:47.750254Z",
     "iopub.status.idle": "2022-11-07T07:17:47.760479Z",
     "shell.execute_reply": "2022-11-07T07:17:47.759374Z"
    },
    "papermill": {
     "duration": 0.020352,
     "end_time": "2022-11-07T07:17:47.762993",
     "exception": false,
     "start_time": "2022-11-07T07:17:47.742641",
     "status": "completed"
    },
    "tags": []
   },
   "outputs": [],
   "source": [
    "# Training Start\n",
    "class NeuralNetwork(NeuralNetwork):\n",
    "    def train(self,x_train,y_train,x_test,y_test, epochs, step_per_epochs, batch_size, lr):\n",
    "        history = {\"val_loss\":[],\n",
    "                  'train_loss':[],\n",
    "                  'val_acc':[]}\n",
    "        \n",
    "        for e in range(0, epochs):\n",
    "            epochs_loss_train = 0.0\n",
    "            print(\"Epochs {}\". format(e),end = \" | \")\n",
    "            for i in range(step_per_epochs):\n",
    "                x_batch = x_train[i*batch_size : (i+1)*batch_size]\n",
    "                y_batch = y_train[i*batch_size : (i+1)*batch_size]\n",
    "                batch_loss = self.training_on_batch(x_batch, y_batch, lr)\n",
    "                epochs_loss_train += batch_loss\n",
    "                \n",
    "                \n",
    "        \n",
    "                if i %int(step_per_epochs/10) ==0:\n",
    "                    print(end = \" . \")\n",
    "                    \n",
    "            \n",
    "            \n",
    "            history['train_loss'].append(epochs_loss_train/step_per_epochs)   \n",
    "\n",
    "\n",
    "            valA = self.forwardPass(x_test)   \n",
    "            history['val_loss'].append(self.compute_loss(y_test, valA).numpy())\n",
    "\n",
    "\n",
    "            valuePr = self.predict(x_test)\n",
    "            history['val_acc'].append(np.mean(np.argmax(y_test, axis = 1)== valuePr.numpy()))\n",
    "            print(\"value Accuracy:\", history['val_acc'][-1])\n",
    "\n",
    "    # Here We will get training information\n",
    "    \n",
    "        return history\n",
    "            "
   ]
  },
  {
   "cell_type": "code",
   "execution_count": 12,
   "id": "89c5803a",
   "metadata": {
    "execution": {
     "iopub.execute_input": "2022-11-07T07:17:47.778627Z",
     "iopub.status.busy": "2022-11-07T07:17:47.777909Z",
     "iopub.status.idle": "2022-11-07T07:17:47.789642Z",
     "shell.execute_reply": "2022-11-07T07:17:47.788730Z"
    },
    "papermill": {
     "duration": 0.02251,
     "end_time": "2022-11-07T07:17:47.792096",
     "exception": false,
     "start_time": "2022-11-07T07:17:47.769586",
     "status": "completed"
    },
    "tags": []
   },
   "outputs": [],
   "source": [
    "def loadDatasets():\n",
    "    (x_train, y_train),(x_test,y_test)= tf.keras.datasets.mnist.load_data()\n",
    "    x_train = np.reshape(x_train, (x_train.shape[0],784))/255.0\n",
    "    y_train = tf.keras.utils.to_categorical(y_train)\n",
    "    x_test = np.reshape(x_test,(x_test.shape[0],784))/255.0\n",
    "    y_test = tf.keras.utils.to_categorical(y_test)\n",
    "    \n",
    "    print(\"X Train Datasets Shape: {}\". format(x_train.shape))\n",
    "    print(\"Y test Data {}\".format(y_test))\n",
    "    print (\"Len of Y test Datasets:{}\".format(len(y_test[0])))\n",
    "   # print(\"Unique Value is :{}\".format(np.unique(y_test[0]))) \n",
    "    print(\"Unique Value is :{}\".format(np.argmax(y_test[7])))\n",
    "    return (x_train, y_train), (x_test, y_test)\n",
    "\n",
    "\n",
    "def plot_random_sample(x,y,p= None):\n",
    "    indicies = np.random.choice(range(0,x.shape[0]),10)\n",
    "    y=np.argmax(y, axis=1)\n",
    "    \n",
    "    \n",
    "    if p is None:\n",
    "        p = y\n",
    "        \n",
    "    plt.figure(figsize=(10,4)) \n",
    "    for i, index in enumerate(indicies):\n",
    "        plt.subplot(2,5, i+1)\n",
    "        plt.imshow(x[index].reshape((28,28)), cmap = 'binary')\n",
    "        plt.xticks([])\n",
    "        plt.yticks([])\n",
    "        plt.gray()\n",
    "        \n",
    "        \n",
    "        if y[index]== p[index]:\n",
    "            col = 'g'\n",
    "        else:\n",
    "            col = 'r'\n",
    "        plt.xlabel(str(p[index]), color = col)\n",
    "            \n",
    "            \n",
    "    return plt       \n",
    "    \n",
    "    "
   ]
  },
  {
   "cell_type": "code",
   "execution_count": 13,
   "id": "17edb988",
   "metadata": {
    "execution": {
     "iopub.execute_input": "2022-11-07T07:17:47.807149Z",
     "iopub.status.busy": "2022-11-07T07:17:47.806397Z",
     "iopub.status.idle": "2022-11-07T07:17:50.517636Z",
     "shell.execute_reply": "2022-11-07T07:17:50.516328Z"
    },
    "papermill": {
     "duration": 2.721756,
     "end_time": "2022-11-07T07:17:50.520346",
     "exception": false,
     "start_time": "2022-11-07T07:17:47.798590",
     "status": "completed"
    },
    "tags": []
   },
   "outputs": [
    {
     "name": "stdout",
     "output_type": "stream",
     "text": [
      "Downloading data from https://storage.googleapis.com/tensorflow/tf-keras-datasets/mnist.npz\n",
      "11493376/11490434 [==============================] - 1s 0us/step\n",
      "11501568/11490434 [==============================] - 1s 0us/step\n",
      "X Train Datasets Shape: (60000, 784)\n",
      "Y test Data [[0. 0. 0. ... 1. 0. 0.]\n",
      " [0. 0. 1. ... 0. 0. 0.]\n",
      " [0. 1. 0. ... 0. 0. 0.]\n",
      " ...\n",
      " [0. 0. 0. ... 0. 0. 0.]\n",
      " [0. 0. 0. ... 0. 0. 0.]\n",
      " [0. 0. 0. ... 0. 0. 0.]]\n",
      "Len of Y test Datasets:10\n",
      "Unique Value is :9\n"
     ]
    }
   ],
   "source": [
    "(x_train, y_train),(x_test,y_test)=loadDatasets()"
   ]
  },
  {
   "cell_type": "code",
   "execution_count": 14,
   "id": "af649789",
   "metadata": {
    "execution": {
     "iopub.execute_input": "2022-11-07T07:17:50.538103Z",
     "iopub.status.busy": "2022-11-07T07:17:50.537294Z",
     "iopub.status.idle": "2022-11-07T07:17:51.157490Z",
     "shell.execute_reply": "2022-11-07T07:17:51.156643Z"
    },
    "papermill": {
     "duration": 0.631445,
     "end_time": "2022-11-07T07:17:51.159698",
     "exception": false,
     "start_time": "2022-11-07T07:17:50.528253",
     "status": "completed"
    },
    "tags": []
   },
   "outputs": [
    {
     "data": {
      "image/png": "[encoded data removed]",
      "text/plain": [
       "<Figure size 720x288 with 10 Axes>"
      ]
     },
     "metadata": {},
     "output_type": "display_data"
    }
   ],
   "source": [
    "plot_random_sample(x_train,y_train).show()"
   ]
  },
  {
   "cell_type": "code",
   "execution_count": 15,
   "id": "44af1b00",
   "metadata": {
    "execution": {
     "iopub.execute_input": "2022-11-07T07:17:51.177636Z",
     "iopub.status.busy": "2022-11-07T07:17:51.177036Z",
     "iopub.status.idle": "2022-11-07T07:17:51.250046Z",
     "shell.execute_reply": "2022-11-07T07:17:51.248794Z"
    },
    "papermill": {
     "duration": 0.084687,
     "end_time": "2022-11-07T07:17:51.252512",
     "exception": false,
     "start_time": "2022-11-07T07:17:51.167825",
     "status": "completed"
    },
    "tags": []
   },
   "outputs": [
    {
     "name": "stderr",
     "output_type": "stream",
     "text": [
      "2022-11-07 07:17:51.192003: I tensorflow/core/common_runtime/process_util.cc:146] Creating new thread pool with default inter op setting: 2. Tune using inter_op_parallelism_threads for best performance.\n"
     ]
    }
   ],
   "source": [
    "network = NeuralNetwork([784,256,256,10])"
   ]
  },
  {
   "cell_type": "code",
   "execution_count": 16,
   "id": "8fecb905",
   "metadata": {
    "execution": {
     "iopub.execute_input": "2022-11-07T07:17:51.271244Z",
     "iopub.status.busy": "2022-11-07T07:17:51.270436Z",
     "iopub.status.idle": "2022-11-07T07:17:51.276457Z",
     "shell.execute_reply": "2022-11-07T07:17:51.275511Z"
    },
    "papermill": {
     "duration": 0.017668,
     "end_time": "2022-11-07T07:17:51.278668",
     "exception": false,
     "start_time": "2022-11-07T07:17:51.261000",
     "status": "completed"
    },
    "tags": []
   },
   "outputs": [
    {
     "name": "stdout",
     "output_type": "stream",
     "text": [
      "Number of Feature: 784\n",
      "Total Number of Class is: 10\n",
      "Hidden Layer information is:\n",
      "Layer: 1, Units 256\n",
      "Layer: 2, Units 256\n",
      "Total Number of parameters : 269322\n"
     ]
    }
   ],
   "source": [
    "network.info()"
   ]
  },
  {
   "cell_type": "code",
   "execution_count": 17,
   "id": "260a2fa9",
   "metadata": {
    "execution": {
     "iopub.execute_input": "2022-11-07T07:17:51.296672Z",
     "iopub.status.busy": "2022-11-07T07:17:51.296261Z",
     "iopub.status.idle": "2022-11-07T07:17:51.301222Z",
     "shell.execute_reply": "2022-11-07T07:17:51.300021Z"
    },
    "papermill": {
     "duration": 0.016835,
     "end_time": "2022-11-07T07:17:51.303481",
     "exception": false,
     "start_time": "2022-11-07T07:17:51.286646",
     "status": "completed"
    },
    "tags": []
   },
   "outputs": [],
   "source": [
    "batch_size = 128\n",
    "epochs = 20\n",
    "step_per_epochs = int(x_train.shape[0]/batch_size)"
   ]
  },
  {
   "cell_type": "code",
   "execution_count": 18,
   "id": "11fdeffd",
   "metadata": {
    "execution": {
     "iopub.execute_input": "2022-11-07T07:17:51.322000Z",
     "iopub.status.busy": "2022-11-07T07:17:51.321213Z",
     "iopub.status.idle": "2022-11-07T07:17:51.328918Z",
     "shell.execute_reply": "2022-11-07T07:17:51.327737Z"
    },
    "papermill": {
     "duration": 0.019725,
     "end_time": "2022-11-07T07:17:51.331358",
     "exception": false,
     "start_time": "2022-11-07T07:17:51.311633",
     "status": "completed"
    },
    "tags": []
   },
   "outputs": [
    {
     "data": {
      "text/plain": [
       "468"
      ]
     },
     "execution_count": 18,
     "metadata": {},
     "output_type": "execute_result"
    }
   ],
   "source": [
    "x_train.shape[0]//128"
   ]
  },
  {
   "cell_type": "code",
   "execution_count": 19,
   "id": "cf7c345d",
   "metadata": {
    "execution": {
     "iopub.execute_input": "2022-11-07T07:17:51.349508Z",
     "iopub.status.busy": "2022-11-07T07:17:51.349138Z",
     "iopub.status.idle": "2022-11-07T07:17:51.353888Z",
     "shell.execute_reply": "2022-11-07T07:17:51.352502Z"
    },
    "papermill": {
     "duration": 0.016541,
     "end_time": "2022-11-07T07:17:51.356100",
     "exception": false,
     "start_time": "2022-11-07T07:17:51.339559",
     "status": "completed"
    },
    "tags": []
   },
   "outputs": [],
   "source": [
    "learning_rate = 3e-6"
   ]
  },
  {
   "cell_type": "code",
   "execution_count": 20,
   "id": "200c1451",
   "metadata": {
    "execution": {
     "iopub.execute_input": "2022-11-07T07:17:51.374706Z",
     "iopub.status.busy": "2022-11-07T07:17:51.373959Z",
     "iopub.status.idle": "2022-11-07T07:22:55.786381Z",
     "shell.execute_reply": "2022-11-07T07:22:55.785162Z"
    },
    "papermill": {
     "duration": 304.424764,
     "end_time": "2022-11-07T07:22:55.789202",
     "exception": false,
     "start_time": "2022-11-07T07:17:51.364438",
     "status": "completed"
    },
    "tags": []
   },
   "outputs": [
    {
     "name": "stdout",
     "output_type": "stream",
     "text": [
      "Epochs 0 |  .  .  .  .  .  .  .  .  .  .  . value Accuracy: 0.1837\n",
      "Epochs 1 |  .  .  .  .  .  .  .  .  .  .  . value Accuracy: 0.1936\n",
      "Epochs 2 |  .  .  .  .  .  .  .  .  .  .  . value Accuracy: 0.2097\n",
      "Epochs 3 |  .  .  .  .  .  .  .  .  .  .  . value Accuracy: 0.2266\n",
      "Epochs 4 |  .  .  .  .  .  .  .  .  .  .  . value Accuracy: 0.2447\n",
      "Epochs 5 |  .  .  .  .  .  .  .  .  .  .  . value Accuracy: 0.26\n",
      "Epochs 6 |  .  .  .  .  .  .  .  .  .  .  . value Accuracy: 0.274\n",
      "Epochs 7 |  .  .  .  .  .  .  .  .  .  .  . value Accuracy: 0.2872\n",
      "Epochs 8 |  .  .  .  .  .  .  .  .  .  .  . value Accuracy: 0.3007\n",
      "Epochs 9 |  .  .  .  .  .  .  .  .  .  .  . value Accuracy: 0.3132\n",
      "Epochs 10 |  .  .  .  .  .  .  .  .  .  .  . value Accuracy: 0.3262\n",
      "Epochs 11 |  .  .  .  .  .  .  .  .  .  .  . value Accuracy: 0.3396\n",
      "Epochs 12 |  .  .  .  .  .  .  .  .  .  .  . value Accuracy: 0.3511\n",
      "Epochs 13 |  .  .  .  .  .  .  .  .  .  .  . value Accuracy: 0.3645\n",
      "Epochs 14 |  .  .  .  .  .  .  .  .  .  .  . value Accuracy: 0.3781\n",
      "Epochs 15 |  .  .  .  .  .  .  .  .  .  .  . value Accuracy: 0.3895\n",
      "Epochs 16 |  .  .  .  .  .  .  .  .  .  .  . value Accuracy: 0.4005\n",
      "Epochs 17 |  .  .  .  .  .  .  .  .  .  .  . value Accuracy: 0.4103\n",
      "Epochs 18 |  .  .  .  .  .  .  .  .  .  .  . value Accuracy: 0.4204\n",
      "Epochs 19 |  .  .  .  .  .  .  .  .  .  .  . value Accuracy: 0.4308\n"
     ]
    }
   ],
   "source": [
    "history = network.train(x_train,y_train,x_test,y_test, epochs, step_per_epochs, batch_size, learning_rate)"
   ]
  },
  {
   "cell_type": "code",
   "execution_count": 21,
   "id": "a94dcd5d",
   "metadata": {
    "execution": {
     "iopub.execute_input": "2022-11-07T07:22:55.833997Z",
     "iopub.status.busy": "2022-11-07T07:22:55.833557Z",
     "iopub.status.idle": "2022-11-07T07:22:55.842492Z",
     "shell.execute_reply": "2022-11-07T07:22:55.841222Z"
    },
    "papermill": {
     "duration": 0.03422,
     "end_time": "2022-11-07T07:22:55.844966",
     "exception": false,
     "start_time": "2022-11-07T07:22:55.810746",
     "status": "completed"
    },
    "tags": []
   },
   "outputs": [],
   "source": [
    "def plot_results(history):\n",
    "    plt.figure(figsize=(12,4))\n",
    "    epochs = len(history['val_loss'])\n",
    "    plt.subplot(1,2,1)\n",
    "    plt.plot(range(epochs), history['val_loss'], label='Val Loss')\n",
    "    plt.plot(range(epochs), history['train_loss'], label='Train Loss')\n",
    "    plt.xticks(list(range(epochs)))\n",
    "    plt.xlabel('Epochs')\n",
    "    plt.ylabel('Loss')\n",
    "    plt.legend() \n",
    "    \n",
    "    \n",
    "    plt.subplot(1,2,2)\n",
    "    plt.plot(range(epochs), history['val_acc'], label = 'Val Acc')\n",
    "    plt.xticks(list(range(epochs)))\n",
    "    plt.xlabel('Epochs')\n",
    "    plt.ylabel('Accuracy')\n",
    "    plt.legend()\n",
    "    return plt"
   ]
  },
  {
   "cell_type": "code",
   "execution_count": 22,
   "id": "641540dd",
   "metadata": {
    "execution": {
     "iopub.execute_input": "2022-11-07T07:22:55.889746Z",
     "iopub.status.busy": "2022-11-07T07:22:55.889316Z",
     "iopub.status.idle": "2022-11-07T07:22:56.277376Z",
     "shell.execute_reply": "2022-11-07T07:22:56.276431Z"
    },
    "papermill": {
     "duration": 0.413132,
     "end_time": "2022-11-07T07:22:56.279705",
     "exception": false,
     "start_time": "2022-11-07T07:22:55.866573",
     "status": "completed"
    },
    "tags": []
   },
   "outputs": [
    {
     "data": {
      "image/png": "[encoded data removed]",
      "text/plain": [
       "<Figure size 864x288 with 2 Axes>"
      ]
     },
     "metadata": {
      "needs_background": "light"
     },
     "output_type": "display_data"
    }
   ],
   "source": [
    "plot_results(history).show()"
   ]
  },
  {
   "cell_type": "code",
   "execution_count": 23,
   "id": "8249d51e",
   "metadata": {
    "execution": {
     "iopub.execute_input": "2022-11-07T07:22:56.327214Z",
     "iopub.status.busy": "2022-11-07T07:22:56.326460Z",
     "iopub.status.idle": "2022-11-07T07:22:56.394707Z",
     "shell.execute_reply": "2022-11-07T07:22:56.393797Z"
    },
    "papermill": {
     "duration": 0.094898,
     "end_time": "2022-11-07T07:22:56.397432",
     "exception": false,
     "start_time": "2022-11-07T07:22:56.302534",
     "status": "completed"
    },
    "tags": []
   },
   "outputs": [],
   "source": [
    "pred = network.predict(x_test)"
   ]
  },
  {
   "cell_type": "code",
   "execution_count": 24,
   "id": "c29308a1",
   "metadata": {
    "execution": {
     "iopub.execute_input": "2022-11-07T07:22:56.444419Z",
     "iopub.status.busy": "2022-11-07T07:22:56.443605Z",
     "iopub.status.idle": "2022-11-07T07:22:56.863526Z",
     "shell.execute_reply": "2022-11-07T07:22:56.862101Z"
    },
    "papermill": {
     "duration": 0.447636,
     "end_time": "2022-11-07T07:22:56.867263",
     "exception": false,
     "start_time": "2022-11-07T07:22:56.419627",
     "status": "completed"
    },
    "tags": []
   },
   "outputs": [
    {
     "data": {
      "image/png": "[encoded data removed]",
      "text/plain": [
       "<Figure size 720x288 with 10 Axes>"
      ]
     },
     "metadata": {},
     "output_type": "display_data"
    }
   ],
   "source": [
    "plot_random_sample(x_test,y_test,pred.numpy()).show()"
   ]
  }
 ],
 "metadata": {
  "kernelspec": {
   "display_name": "Python 3",
   "language": "python",
   "name": "python3"
  },
  "language_info": {
   "codemirror_mode": {
    "name": "ipython",
    "version": 3
   },
   "file_extension": ".py",
   "mimetype": "text/x-python",
   "name": "python",
   "nbconvert_exporter": "python",
   "pygments_lexer": "ipython3",
   "version": "3.7.12"
  },
  "papermill": {
   "default_parameters": {},
   "duration": 327.326179,
   "end_time": "2022-11-07T07:23:00.436613",
   "environment_variables": {},
   "exception": null,
   "input_path": "__notebook__.ipynb",
   "output_path": "__notebook__.ipynb",
   "parameters": {},
   "start_time": "2022-11-07T07:17:33.110434",
   "version": "2.3.4"
  }
 },
 "nbformat": 4,
 "nbformat_minor": 5
}
